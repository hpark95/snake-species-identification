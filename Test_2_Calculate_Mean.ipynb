{
 "cells": [
  {
   "cell_type": "code",
   "execution_count": 47,
   "metadata": {},
   "outputs": [
    {
     "name": "stdout",
     "output_type": "stream",
     "text": [
      "No. of images: 129952\n",
      "Elapsed 1533.6509053707123 seconds\n",
      "[[103.64519509]\n",
      " [118.35241679]\n",
      " [124.96846096]] \n",
      " [[50.93829403]\n",
      " [52.51745522]\n",
      " [54.89964224]]\n"
     ]
    }
   ],
   "source": [
    "import os, sys, time\n",
    "import cv2\n",
    "import numpy as np\n",
    "\n",
    "def dataset_mean_std(path):\n",
    "    '''\n",
    "    Calculates the mean of the dataset given the image folder path.\n",
    "\n",
    "    :param path: path to the root folder with images (not divided by classes)\n",
    "    :return c_mean/n: dataset color mean\n",
    "    :return np.sqrt(c_var/n): average dataset color standard deviation\n",
    "    '''\n",
    "\n",
    "    # snakes_mean_color = [103.64519509, 118.35241679, 124.96846096] \n",
    "    # snakes_std_color  = [50.93829403, 52.51745522, 54.89964224] \n",
    "\n",
    "    files = os.listdir(path)\n",
    "    n = len(files)\n",
    "    print('No. of images:', n)\n",
    "    \n",
    "    start_time = time.time()\n",
    "    \n",
    "    c_mean, c_var = np.zeros((3,1)), np.zeros((3,1))\n",
    "\n",
    "    for i in range(n):\n",
    "        path_img = path + files[i]\n",
    "        print(i, end=\"\\r\")\n",
    "        img_test = cv2.imread(path_img)\n",
    "\n",
    "        # Check if file is broken\n",
    "        if img_test is not None:\n",
    "            mean, std = cv2.meanStdDev(img_test)\n",
    "            c_mean += mean\n",
    "            c_var += np.square(std) \n",
    "    \n",
    "    print(\"Elapsed %s seconds\" % (time.time() - start_time))\n",
    "    \n",
    "    return c_mean/n, np.sqrt(c_var/n)\n",
    "\n",
    "c_mean, c_std = dataset_mean_std(\"train_images/\")\n",
    "\n",
    "print(c_mean, '\\n', c_std)\n",
    "    \n",
    "\n"
   ]
  },
  {
   "cell_type": "code",
   "execution_count": null,
   "metadata": {},
   "outputs": [],
   "source": []
  }
 ],
 "metadata": {
  "kernelspec": {
   "display_name": "Python 3",
   "language": "python",
   "name": "python3"
  },
  "language_info": {
   "codemirror_mode": {
    "name": "ipython",
    "version": 3
   },
   "file_extension": ".py",
   "mimetype": "text/x-python",
   "name": "python",
   "nbconvert_exporter": "python",
   "pygments_lexer": "ipython3",
   "version": "3.7.4"
  }
 },
 "nbformat": 4,
 "nbformat_minor": 2
}
